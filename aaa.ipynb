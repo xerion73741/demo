{
 "cells": [
  {
   "cell_type": "code",
   "execution_count": null,
   "id": "d9fdba2d",
   "metadata": {},
   "outputs": [
    {
     "data": {
      "text/plain": [
       "\"<p style='color:red;'>查無資料，請重新輸入</p>\""
      ]
     },
     "execution_count": 7,
     "metadata": {},
     "output_type": "execute_result"
    }
   ],
   "source": [
    "import pandas as pd\n",
    "import folium\n",
    "from longterm_care_db import LongTermCareDB\n",
    "\n",
    "\n",
    "def create_longtermcare_map(city, dist):\n",
    "    ltc_list_dict = []\n",
    "    ltc_datas = LongTermCareDB().find_by_city_dist(city, dist)\n",
    "\n",
    "    for data in ltc_datas:\n",
    "        ltc_list_dict.append({\n",
    "            'id': data[0],\n",
    "            'name': data[1],\n",
    "            'address': data[2],\n",
    "            'lat': data[3],\n",
    "            'lng': data[4],\n",
    "        })\n",
    "\n",
    "    if not ltc_list_dict:\n",
    "        return \"<p style='color:red;'>查無資料，請重新輸入</p>\"\n",
    "    \n",
    "    center_lat = sum([item['lat'] for item in ltc_list_dict]) / len(ltc_list_dict)\n",
    "    center_lng = sum([item['lng'] for item in ltc_list_dict]) / len(ltc_list_dict)\n",
    "    m = folium.Map(location=[center_lat,center_lng], zoom_start=14)\n",
    "\n",
    "    for item in ltc_list_dict:\n",
    "        folium.Marker(\n",
    "            location=[item['lat'],item['lng']],\n",
    "            popup= folium.Popup(\n",
    "                f\"機構名稱: {item['name']}<br>地址: {item['address']}\",\n",
    "                max_width=300)\n",
    "        ).add_to(m)    \n",
    "\n",
    "    return m\n",
    "\n",
    "if __name__ == '__main__':\n",
    "    city = '新北勢'\n",
    "    dist = '五股區'\n",
    "    datas = create_longtermcare_map(city, dist)\n"
   ]
  }
 ],
 "metadata": {
  "kernelspec": {
   "display_name": ".venv",
   "language": "python",
   "name": "python3"
  },
  "language_info": {
   "codemirror_mode": {
    "name": "ipython",
    "version": 3
   },
   "file_extension": ".py",
   "mimetype": "text/x-python",
   "name": "python",
   "nbconvert_exporter": "python",
   "pygments_lexer": "ipython3",
   "version": "3.11.5"
  }
 },
 "nbformat": 4,
 "nbformat_minor": 5
}
